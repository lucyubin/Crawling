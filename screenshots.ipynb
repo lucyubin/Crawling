{
 "cells": [
  {
   "cell_type": "markdown",
   "metadata": {},
   "source": [
    "# 스크롤 내려서 full 페이지 스크린"
   ]
  },
  {
   "cell_type": "code",
   "execution_count": 1,
   "metadata": {},
   "outputs": [
    {
     "data": {
      "text/plain": [
       "True"
      ]
     },
     "execution_count": 1,
     "metadata": {},
     "output_type": "execute_result"
    }
   ],
   "source": [
    "from time import sleep\n",
    "\n",
    "# import webdriver\n",
    "from selenium import webdriver\n",
    "from selenium.webdriver.chrome.options import Options\n",
    "\n",
    "# https://stackoverflow.com/questions/59365968/opening-inspect-pressing-f12-on-chrome-via-selenium\n",
    "options = webdriver.ChromeOptions()\n",
    "options.headless = True\n",
    "options.add_argument(\"start-maximized\")\n",
    "options.add_argument(\"--auto-open-devtools-for-tabs\")\n",
    "options.add_experimental_option(\"excludeSwitches\", [\"enable-automation\"])\n",
    "options.add_experimental_option('useAutomationExtension', False)\n",
    "\n",
    "# create webdriver object\n",
    "driver = webdriver.Chrome(executable_path=r'D:/논문/chromedriver.exe', options=options) #크롬드라이버.exe 위치\n",
    "\n",
    "# get naver.com\n",
    "driver.get(\"https://naver.com\") #크롤링할 URL\n",
    "\n",
    "# full size \n",
    "## https://www.youtube.com/watch?v=iOpGGW__oz4\n",
    "## https://pythonbasics.org/selenium-screenshot/\n",
    "\n",
    "S = lambda X: driver.execute_script('return document.body.parentNode.scroll'+X)\n",
    "driver.set_window_size(S('Width'),S('Height')) # May need manual adjustment\n",
    "\n",
    "sleep(10)\n",
    "driver.find_element_by_tag_name('body').screenshot('naver.png')"
   ]
  },
  {
   "cell_type": "markdown",
   "metadata": {},
   "source": [
    "![python image](naver.png)"
   ]
  },
  {
   "cell_type": "markdown",
   "metadata": {},
   "source": [
    "# 이미지 크기 지정해서 캡쳐"
   ]
  },
  {
   "cell_type": "code",
   "execution_count": 2,
   "metadata": {},
   "outputs": [
    {
     "data": {
      "text/plain": [
       "True"
      ]
     },
     "execution_count": 2,
     "metadata": {},
     "output_type": "execute_result"
    }
   ],
   "source": [
    "from time import sleep\n",
    "\n",
    "# import webdriver\n",
    "from selenium import webdriver\n",
    "from selenium.webdriver.chrome.options import Options\n",
    "\n",
    "# https://stackoverflow.com/questions/59365968/opening-inspect-pressing-f12-on-chrome-via-selenium\n",
    "options = webdriver.ChromeOptions()\n",
    "options.headless = True\n",
    "options.add_argument(\"start-maximized\")\n",
    "options.add_argument(\"--auto-open-devtools-for-tabs\")\n",
    "options.add_experimental_option(\"excludeSwitches\", [\"enable-automation\"])\n",
    "options.add_experimental_option('useAutomationExtension', False)\n",
    "\n",
    "# create webdriver object\n",
    "driver = webdriver.Chrome(executable_path=r'D:/논문/chromedriver.exe', options=options) #크롬드라이버.exe 위치\n",
    "\n",
    "# get naver.com\n",
    "driver.get(\"https://map.kakao.com/?map_type=TYPE_MAP&traffic_state=2&urlLevel=4&urlX=507000&urlY=1130000\") #크롤링할 URL\n",
    "\n",
    "#set to new window size\n",
    "driver.set_window_size(3000, 3000) # 캡쳐할 이미지 가로 세로 크기\n",
    "sleep(10) # 지도 로딩할 시간\n",
    "\n",
    "#obtain screenshot of page within body tag\n",
    "driver.find_element_by_tag_name('body').screenshot(\"kakaomap.png\")"
   ]
  },
  {
   "cell_type": "markdown",
   "metadata": {},
   "source": [
    "![python image](kakaomap.png)"
   ]
  },
  {
   "cell_type": "code",
   "execution_count": null,
   "metadata": {},
   "outputs": [],
   "source": []
  }
 ],
 "metadata": {
  "kernelspec": {
   "display_name": "Python 3",
   "language": "python",
   "name": "python3"
  },
  "language_info": {
   "codemirror_mode": {
    "name": "ipython",
    "version": 3
   },
   "file_extension": ".py",
   "mimetype": "text/x-python",
   "name": "python",
   "nbconvert_exporter": "python",
   "pygments_lexer": "ipython3",
   "version": "3.7.6"
  }
 },
 "nbformat": 4,
 "nbformat_minor": 4
}
